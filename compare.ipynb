{
 "cells": [
  {
   "cell_type": "code",
   "execution_count": null,
   "id": "adapted-rwanda",
   "metadata": {},
   "outputs": [],
   "source": [
    "import pandas as pd\n",
    "import csv\n",
    "import unicodedata\n",
    "with open('filtro.csv', 'r') as csvfile:\n",
    "    csvreader = csv.reader(csvfile, delimiter=';')\n",
    "\n",
    "    items_in_1 = set()\n",
    "    items_in_2 = set()\n",
    "\n",
    "    for line in csvreader:\n",
    "        items_in_1.add(line[0])\n",
    "        items_in_2.add(line[1])\n",
    "        \n",
    "def remove_accents(data): \n",
    "    return unicodedata.normalize('NFD', data).encode('ASCII', 'ignore').decode('utf-8').strip().upper()\n",
    "\n",
    "def diff(first, second):\n",
    "        second = set(second)\n",
    "        print (\"execute function\")\n",
    "        return [item for item in first if item not in second]\n",
    "    \n",
    "sacent2=list()\n",
    "for item in items_in_1:\n",
    "    sacent2.append(remove_accents(item))\n",
    "sacent=list()\n",
    "for item in items_in_2:\n",
    "    sacent.append(remove_accents(item))\n",
    "    \n",
    "\n",
    "vetor=list()\n",
    "vetor=(diff(sacent,sacent2))\n",
    "\n",
    "i=0\n",
    "vetor=sorted(vetor)\n",
    "for v in vetor:\n",
    "    print ( v)\n",
    "    i+=1"
   ]
  }
 ],
 "metadata": {
  "kernelspec": {
   "display_name": "Python 3",
   "language": "python",
   "name": "python3"
  },
  "language_info": {
   "codemirror_mode": {
    "name": "ipython",
    "version": 3
   },
   "file_extension": ".py",
   "mimetype": "text/x-python",
   "name": "python",
   "nbconvert_exporter": "python",
   "pygments_lexer": "ipython3",
   "version": "3.6.9"
  }
 },
 "nbformat": 4,
 "nbformat_minor": 5
}
