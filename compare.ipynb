{
 "cells": [
  {
   "cell_type": "code",
   "execution_count": null,
   "id": "adapted-rwanda",
   "metadata": {},
   "outputs": [],
   "source": [
    "import pandas as pd\n",
    "import csv\n",
    "with open('filtro.csv', 'r') as csvfile:\n",
    "    csvreader = csv.reader(csvfile, delimiter=';')\n",
    "\n",
    "    items_in_1 = set()\n",
    "    items_in_2 = set()\n",
    "\n",
    "    for line in csvreader:\n",
    "        items_in_1.add(line[0].strip().upper())\n",
    "        items_in_2.add(line[1].strip().upper())\n",
    "\n",
    "    items_in_both = items_in_2.difference(items_in_1)\n",
    "\n",
    " \n",
    "    i=0\n",
    "    print(\"item\")\n",
    "    for item in items_in_both :\n",
    "        print(i, item)\n",
    "        i+=1"
   ]
  }
 ],
 "metadata": {
  "kernelspec": {
   "display_name": "Python 3",
   "language": "python",
   "name": "python3"
  },
  "language_info": {
   "codemirror_mode": {
    "name": "ipython",
    "version": 3
   },
   "file_extension": ".py",
   "mimetype": "text/x-python",
   "name": "python",
   "nbconvert_exporter": "python",
   "pygments_lexer": "ipython3",
   "version": "3.6.8"
  }
 },
 "nbformat": 4,
 "nbformat_minor": 5
}
